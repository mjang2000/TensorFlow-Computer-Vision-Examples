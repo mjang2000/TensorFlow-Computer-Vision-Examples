{
 "cells": [
  {
   "cell_type": "markdown",
   "execution_count": null,
   "metadata": {
    "id": "ziQ6YeTI7-8z"
   },
   "source": [
    "Adapted from [GitHub Keras Example](https://github.com/keras-team/keras/blob/master/examples/cifar10_cnn.py)\n",
    "\n",
    "\n",
    "TensorFlow 1.x --> TensorFlow 2.x"
   ]
  },
  {
   "cell_type": "markdown",
   "execution_count": null,
   "metadata": {
    "id": "ZpIMXCQoggZp"
   },
   "source": [
    "# 1. Introduction\n",
    "\n",
    "This tutorial is an introduction to Convolutional Neural Networks using TensorFlow 2.x Keras API. The dataset that we will work it is the Cifar10 dataset, a dataset of images from 10 different classes, and we will use a Sequential CNN to identify the class of an image.\n",
    "\n",
    "This model reaches ~80% accuracy.\n",
    "\n",
    "To prepare our notebook, run the next cell to import the necessary packages. Change the accelerator from ```None``` to ```GPU``` on the right."
   ]
  },
  {
   "cell_type": "code",
   "execution_count": 1,
   "metadata": {},
   "outputs": [
    {
     "name": "stdout",
     "output_type": "stream",
     "text": [
      "Collecting tensorflow==2.2.0\r\n",
      "  Downloading tensorflow-2.2.0-cp37-cp37m-manylinux2010_x86_64.whl (516.2 MB)\r\n",
      "\u001b[K     |████████████████████████████████| 516.2 MB 2.8 kB/s \r\n",
      "\u001b[?25hRequirement already satisfied: scipy==1.4.1; python_version >= \"3\" in /opt/conda/lib/python3.7/site-packages (from tensorflow==2.2.0) (1.4.1)\r\n",
      "Collecting gast==0.3.3\r\n",
      "  Downloading gast-0.3.3-py2.py3-none-any.whl (9.7 kB)\r\n",
      "Requirement already satisfied: termcolor>=1.1.0 in /opt/conda/lib/python3.7/site-packages (from tensorflow==2.2.0) (1.1.0)\r\n",
      "Requirement already satisfied: google-pasta>=0.1.8 in /opt/conda/lib/python3.7/site-packages (from tensorflow==2.2.0) (0.2.0)\r\n",
      "Requirement already satisfied: grpcio>=1.8.6 in /opt/conda/lib/python3.7/site-packages (from tensorflow==2.2.0) (1.28.1)\r\n",
      "Collecting tensorflow-estimator<2.3.0,>=2.2.0\r\n",
      "  Downloading tensorflow_estimator-2.2.0-py2.py3-none-any.whl (454 kB)\r\n",
      "\u001b[K     |████████████████████████████████| 454 kB 40.4 MB/s \r\n",
      "\u001b[?25hCollecting astunparse==1.6.3\r\n",
      "  Downloading astunparse-1.6.3-py2.py3-none-any.whl (12 kB)\r\n",
      "Requirement already satisfied: keras-preprocessing>=1.1.0 in /opt/conda/lib/python3.7/site-packages (from tensorflow==2.2.0) (1.1.0)\r\n",
      "Collecting tensorboard<2.3.0,>=2.2.0\r\n",
      "  Downloading tensorboard-2.2.2-py3-none-any.whl (3.0 MB)\r\n",
      "\u001b[K     |████████████████████████████████| 3.0 MB 46.5 MB/s \r\n",
      "\u001b[?25hRequirement already satisfied: opt-einsum>=2.3.2 in /opt/conda/lib/python3.7/site-packages (from tensorflow==2.2.0) (3.2.1)\r\n",
      "Requirement already satisfied: protobuf>=3.8.0 in /opt/conda/lib/python3.7/site-packages (from tensorflow==2.2.0) (3.11.4)\r\n",
      "Requirement already satisfied: wrapt>=1.11.1 in /opt/conda/lib/python3.7/site-packages (from tensorflow==2.2.0) (1.11.2)\r\n",
      "Requirement already satisfied: h5py<2.11.0,>=2.10.0 in /opt/conda/lib/python3.7/site-packages (from tensorflow==2.2.0) (2.10.0)\r\n",
      "Requirement already satisfied: wheel>=0.26; python_version >= \"3\" in /opt/conda/lib/python3.7/site-packages (from tensorflow==2.2.0) (0.34.2)\r\n",
      "Requirement already satisfied: six>=1.12.0 in /opt/conda/lib/python3.7/site-packages (from tensorflow==2.2.0) (1.14.0)\r\n",
      "Requirement already satisfied: numpy<2.0,>=1.16.0 in /opt/conda/lib/python3.7/site-packages (from tensorflow==2.2.0) (1.18.1)\r\n",
      "Requirement already satisfied: absl-py>=0.7.0 in /opt/conda/lib/python3.7/site-packages (from tensorflow==2.2.0) (0.9.0)\r\n",
      "Collecting tensorboard-plugin-wit>=1.6.0\r\n",
      "  Downloading tensorboard_plugin_wit-1.6.0.post3-py3-none-any.whl (777 kB)\r\n",
      "\u001b[K     |████████████████████████████████| 777 kB 38.1 MB/s \r\n",
      "\u001b[?25hRequirement already satisfied: werkzeug>=0.11.15 in /opt/conda/lib/python3.7/site-packages (from tensorboard<2.3.0,>=2.2.0->tensorflow==2.2.0) (1.0.1)\r\n",
      "Requirement already satisfied: google-auth<2,>=1.6.3 in /opt/conda/lib/python3.7/site-packages (from tensorboard<2.3.0,>=2.2.0->tensorflow==2.2.0) (1.14.0)\r\n",
      "Requirement already satisfied: google-auth-oauthlib<0.5,>=0.4.1 in /opt/conda/lib/python3.7/site-packages (from tensorboard<2.3.0,>=2.2.0->tensorflow==2.2.0) (0.4.1)\r\n",
      "Requirement already satisfied: requests<3,>=2.21.0 in /opt/conda/lib/python3.7/site-packages (from tensorboard<2.3.0,>=2.2.0->tensorflow==2.2.0) (2.23.0)\r\n",
      "Requirement already satisfied: markdown>=2.6.8 in /opt/conda/lib/python3.7/site-packages (from tensorboard<2.3.0,>=2.2.0->tensorflow==2.2.0) (3.2.1)\r\n",
      "Requirement already satisfied: setuptools>=41.0.0 in /opt/conda/lib/python3.7/site-packages (from tensorboard<2.3.0,>=2.2.0->tensorflow==2.2.0) (46.1.3.post20200325)\r\n",
      "Requirement already satisfied: pyasn1-modules>=0.2.1 in /opt/conda/lib/python3.7/site-packages (from google-auth<2,>=1.6.3->tensorboard<2.3.0,>=2.2.0->tensorflow==2.2.0) (0.2.7)\r\n",
      "Requirement already satisfied: rsa<4.1,>=3.1.4 in /opt/conda/lib/python3.7/site-packages (from google-auth<2,>=1.6.3->tensorboard<2.3.0,>=2.2.0->tensorflow==2.2.0) (4.0)\r\n",
      "Requirement already satisfied: cachetools<5.0,>=2.0.0 in /opt/conda/lib/python3.7/site-packages (from google-auth<2,>=1.6.3->tensorboard<2.3.0,>=2.2.0->tensorflow==2.2.0) (3.1.1)\r\n",
      "Requirement already satisfied: requests-oauthlib>=0.7.0 in /opt/conda/lib/python3.7/site-packages (from google-auth-oauthlib<0.5,>=0.4.1->tensorboard<2.3.0,>=2.2.0->tensorflow==2.2.0) (1.2.0)\r\n",
      "Requirement already satisfied: urllib3!=1.25.0,!=1.25.1,<1.26,>=1.21.1 in /opt/conda/lib/python3.7/site-packages (from requests<3,>=2.21.0->tensorboard<2.3.0,>=2.2.0->tensorflow==2.2.0) (1.24.3)\r\n",
      "Requirement already satisfied: certifi>=2017.4.17 in /opt/conda/lib/python3.7/site-packages (from requests<3,>=2.21.0->tensorboard<2.3.0,>=2.2.0->tensorflow==2.2.0) (2020.4.5.1)\r\n",
      "Requirement already satisfied: chardet<4,>=3.0.2 in /opt/conda/lib/python3.7/site-packages (from requests<3,>=2.21.0->tensorboard<2.3.0,>=2.2.0->tensorflow==2.2.0) (3.0.4)\r\n",
      "Requirement already satisfied: idna<3,>=2.5 in /opt/conda/lib/python3.7/site-packages (from requests<3,>=2.21.0->tensorboard<2.3.0,>=2.2.0->tensorflow==2.2.0) (2.9)\r\n",
      "Requirement already satisfied: pyasn1<0.5.0,>=0.4.6 in /opt/conda/lib/python3.7/site-packages (from pyasn1-modules>=0.2.1->google-auth<2,>=1.6.3->tensorboard<2.3.0,>=2.2.0->tensorflow==2.2.0) (0.4.8)\r\n",
      "Requirement already satisfied: oauthlib>=3.0.0 in /opt/conda/lib/python3.7/site-packages (from requests-oauthlib>=0.7.0->google-auth-oauthlib<0.5,>=0.4.1->tensorboard<2.3.0,>=2.2.0->tensorflow==2.2.0) (3.0.1)\r\n",
      "Installing collected packages: gast, tensorflow-estimator, astunparse, tensorboard-plugin-wit, tensorboard, tensorflow\r\n",
      "  Attempting uninstall: gast\r\n",
      "    Found existing installation: gast 0.2.2\r\n",
      "    Uninstalling gast-0.2.2:\r\n",
      "      Successfully uninstalled gast-0.2.2\r\n",
      "  Attempting uninstall: tensorflow-estimator\r\n",
      "    Found existing installation: tensorflow-estimator 2.1.0\r\n",
      "    Uninstalling tensorflow-estimator-2.1.0:\r\n",
      "      Successfully uninstalled tensorflow-estimator-2.1.0\r\n",
      "  Attempting uninstall: tensorboard\r\n",
      "    Found existing installation: tensorboard 2.1.1\r\n",
      "    Uninstalling tensorboard-2.1.1:\r\n",
      "      Successfully uninstalled tensorboard-2.1.1\r\n",
      "  Attempting uninstall: tensorflow\r\n",
      "    Found existing installation: tensorflow 2.1.0\r\n",
      "    Uninstalling tensorflow-2.1.0:\r\n",
      "      Successfully uninstalled tensorflow-2.1.0\r\n",
      "Successfully installed astunparse-1.6.3 gast-0.3.3 tensorboard-2.2.2 tensorboard-plugin-wit-1.6.0.post3 tensorflow-2.2.0 tensorflow-estimator-2.2.0\r\n",
      "\u001b[33mWARNING: You are using pip version 20.1; however, version 20.1.1 is available.\r\n",
      "You should consider upgrading via the '/opt/conda/bin/python3.7 -m pip install --upgrade pip' command.\u001b[0m\r\n"
     ]
    }
   ],
   "source": [
    "!pip install tensorflow==2.2.0"
   ]
  },
  {
   "cell_type": "code",
   "execution_count": 2,
   "metadata": {
    "id": "PiGHlePr8Ea5",
    "outputId": "bebcb9fe-7b26-487f-9c63-ebd9d36748d4"
   },
   "outputs": [
    {
     "name": "stdout",
     "output_type": "stream",
     "text": [
      "2.2.0\n"
     ]
    }
   ],
   "source": [
    "import tensorflow as tf\n",
    "import seaborn as sns\n",
    "import numpy as np\n",
    "import pandas as pd\n",
    "import matplotlib.pyplot as plt\n",
    "import matplotlib.image as mpimg\n",
    "import itertools\n",
    "\n",
    "print(tf.__version__)"
   ]
  },
  {
   "cell_type": "markdown",
   "execution_count": null,
   "metadata": {
    "id": "_M7mkTRmgoJt"
   },
   "source": [
    "# 2. Data Preprocessing\n",
    "\n",
    "Before building any ML model, it is important to preprocess the data. In fact, data preprocessing will generally take up the most time in any ML pipeline. The following module goes over the steps to preprocess the CIFAR10 dataset for our purposes."
   ]
  },
  {
   "cell_type": "markdown",
   "execution_count": null,
   "metadata": {
    "id": "mlKQeGRKjg9X"
   },
   "source": [
    "## 2.1 Load Data\n",
    "\n",
    "Our first step is to load the data and divide it into a training and testing dataset. The CIFAR10 dataset can be downloaded directly from TensorFlow and has already been divided. Run the next cell to import the data.\n",
    "\n",
    "``` x_train ``` is the dataset of 32x32 color images of objects that the model will be trained on.\n",
    "\n",
    "```y_train``` is the dataset of labels that correspond to ```x_train```. \n",
    "\n",
    "``` x_test ``` is the dataset of 32x32 color images of objects that the model will be tested on.\n",
    "\n",
    "```y_test``` is the dataset of labels that correspond to ```x_test```. "
   ]
  },
  {
   "cell_type": "markdown",
   "execution_count": null,
   "metadata": {},
   "source": [
    "Classes:\n",
    "    0. airplane\n",
    "    1. automobile\n",
    "    2. bird\n",
    "    3. cat\n",
    "    4. deer\n",
    "    5. dog\n",
    "    6. frog\n",
    "    7. horse\n",
    "    8. ship\n",
    "    9. truck"
   ]
  },
  {
   "cell_type": "code",
   "execution_count": 3,
   "metadata": {
    "id": "sGx1exIR8pBm",
    "outputId": "20657ef8-060c-4464-e257-141e7f700c23"
   },
   "outputs": [
    {
     "name": "stdout",
     "output_type": "stream",
     "text": [
      "Downloading data from https://www.cs.toronto.edu/~kriz/cifar-10-python.tar.gz\n",
      "170500096/170498071 [==============================] - 3s 0us/step\n"
     ]
    }
   ],
   "source": [
    "cifar10 = tf.keras.datasets.cifar10\n",
    "(x_train, y_train), (x_test, y_test) = cifar10.load_data()"
   ]
  },
  {
   "cell_type": "code",
   "execution_count": 4,
   "metadata": {
    "id": "Nf0LNnxEXHtC"
   },
   "outputs": [],
   "source": [
    "y_train = y_train.flatten()\n",
    "y_test = y_test.flatten()"
   ]
  },
  {
   "cell_type": "markdown",
   "execution_count": null,
   "metadata": {
    "id": "v5dDKgCD2saz"
   },
   "source": [
    "Run the following code to see how many images are in each class. We see that each class has 5000 images. Having an even distribution of images is helpful for our model as it will have enough images to learn about the features for each class."
   ]
  },
  {
   "cell_type": "code",
   "execution_count": 5,
   "metadata": {
    "id": "94XVUmBojmkc",
    "outputId": "edb9413f-9612-4472-bfc9-0dc9a6d8af11"
   },
   "outputs": [
    {
     "data": {
      "text/plain": [
       "[[Text(0, 0, 'airplane'),\n",
       "  Text(0, 0, 'automobile'),\n",
       "  Text(0, 0, 'bird'),\n",
       "  Text(0, 0, 'cat'),\n",
       "  Text(0, 0, 'deer'),\n",
       "  Text(0, 0, 'dog'),\n",
       "  Text(0, 0, 'frog'),\n",
       "  Text(0, 0, 'horse'),\n",
       "  Text(0, 0, 'ship'),\n",
       "  Text(0, 0, 'truck')]]"
      ]
     },
     "execution_count": 5,
     "metadata": {},
     "output_type": "execute_result"
    },
    {
     "data": {
      "image/png": "[encoded data removed]",
      "text/plain": [
       "<Figure size 720x504 with 1 Axes>"
      ]
     },
     "metadata": {
      "needs_background": "light"
     },
     "output_type": "display_data"
    }
   ],
   "source": [
    "classes = ['airplane', 'automobile', 'bird', 'cat', 'deer', 'dog', 'frog', 'horse', 'ship', 'truck']\n",
    "\n",
    "plt.figure(figsize=(10,7))\n",
    "p = sns.countplot(y_train.flatten())\n",
    "p.set(xticklabels=classes)"
   ]
  },
  {
   "cell_type": "markdown",
   "execution_count": null,
   "metadata": {
    "id": "Oco3NesskMBL"
   },
   "source": [
    "## 2.2 Check for NaN Values"
   ]
  },
  {
   "cell_type": "code",
   "execution_count": 6,
   "metadata": {
    "id": "VH-4jZaLkUi8",
    "outputId": "f46ff97a-cefb-4dfa-b57e-35fabc7ef75b"
   },
   "outputs": [
    {
     "data": {
      "text/plain": [
       "False"
      ]
     },
     "execution_count": 6,
     "metadata": {},
     "output_type": "execute_result"
    }
   ],
   "source": [
    "np.isnan(x_train).any()"
   ]
  },
  {
   "cell_type": "code",
   "execution_count": 7,
   "metadata": {
    "id": "XyW-9Y95lDOO",
    "outputId": "c6080745-370d-4046-ae84-f6050fb37718"
   },
   "outputs": [
    {
     "data": {
      "text/plain": [
       "False"
      ]
     },
     "execution_count": 7,
     "metadata": {},
     "output_type": "execute_result"
    }
   ],
   "source": [
    "np.isnan(x_test).any()"
   ]
  },
  {
   "cell_type": "markdown",
   "execution_count": null,
   "metadata": {
    "id": "k_s4kBdt29S0"
   },
   "source": [
    "There are no NaN values in our dataset. There is no need to preprocess the data to deal with NaN's."
   ]
  },
  {
   "cell_type": "markdown",
   "execution_count": null,
   "metadata": {
    "id": "xQShzwu1lVF6"
   },
   "source": [
    "## 2.3 Normalization and Reshaping\n",
    "\n",
    "Since the values in our ```x_train``` dataset are 32x32 color images, our input shape must be specified so that our model will know what is being inputed.\n",
    "\n",
    "The first convolution layer expects a single 50000x32x32x3 tensor instead of 50000 32x32x3 tensors.\n",
    "\n",
    "Models generally run better on normalized values. The best way to normalize the data depends on each individual dataset. For the CIFAR10 dataset, we want each value to be between 0.0 and 1.0. As all values originally fall under the 0.0-255.0 range, divide by 255.0.\n",
    "\n",
    "Run the following cell to define the ```input_shape``` and to normalize and reshape the data."
   ]
  },
  {
   "cell_type": "code",
   "execution_count": 8,
   "metadata": {
    "id": "ku_acgz58zYK"
   },
   "outputs": [],
   "source": [
    "input_shape = (32, 32, 3)\n",
    "\n",
    "x_train=x_train.reshape(x_train.shape[0], x_train.shape[1], x_train.shape[2], 3)\n",
    "x_train=x_train / 255.0\n",
    "x_test = x_test.reshape(x_test.shape[0], x_test.shape[1], x_test.shape[2], 3)\n",
    "x_test=x_test / 255.0"
   ]
  },
  {
   "cell_type": "markdown",
   "execution_count": null,
   "metadata": {
    "id": "to2JD2UdlwlO"
   },
   "source": [
    "## 2.4 Label Encoding\n",
    "\n",
    "The labels for the training and the testing dataset are currently categorical and is not continuous. To include categorical dataset in our model, our labels should be converted to one-hot encodings.\n",
    "\n",
    "For example, ```2``` (bird) becomes ```[0,0,1,0,0,0,0,0,0,0]``` and ```7``` (horse) becomes ```[0,0,0,0,0,0,0,1,0,0]```.\n",
    "\n",
    "Run the following cell to transform the labels into one-hot encodings"
   ]
  },
  {
   "cell_type": "code",
   "execution_count": 9,
   "metadata": {
    "id": "6-QgtiLFlvNq"
   },
   "outputs": [],
   "source": [
    "y_train = tf.one_hot(y_train.astype(np.int32), depth=10)\n",
    "y_test = tf.one_hot(y_test.astype(np.int32), depth=10)"
   ]
  },
  {
   "cell_type": "code",
   "execution_count": 10,
   "metadata": {
    "id": "GzTNGWbxW_p_",
    "outputId": "d94d6039-06a6-4fe9-ba2f-559cd4e16826"
   },
   "outputs": [
    {
     "data": {
      "text/plain": [
       "<tf.Tensor: shape=(10,), dtype=float32, numpy=array([0., 0., 0., 0., 0., 0., 1., 0., 0., 0.], dtype=float32)>"
      ]
     },
     "execution_count": 10,
     "metadata": {},
     "output_type": "execute_result"
    }
   ],
   "source": [
    "y_train[0]"
   ]
  },
  {
   "cell_type": "markdown",
   "execution_count": null,
   "metadata": {
    "id": "nTKuoZV_pGkM"
   },
   "source": [
    "## 2.5 Visualize Data\n",
    "\n",
    "Run the following cell to visualize an image in our dataset."
   ]
  },
  {
   "cell_type": "code",
   "execution_count": 11,
   "metadata": {
    "id": "q3SNFRohpJvH",
    "outputId": "cf234aab-52d3-4807-86ea-44e4a8d7ea91"
   },
   "outputs": [
    {
     "name": "stdout",
     "output_type": "stream",
     "text": [
      "tf.Tensor([0. 0. 0. 0. 0. 0. 0. 0. 1. 0.], shape=(10,), dtype=float32)\n"
     ]
    },
    {
     "data": {
      "image/png": "[encoded data removed]",
      "text/plain": [
       "<Figure size 432x288 with 1 Axes>"
      ]
     },
     "metadata": {
      "needs_background": "light"
     },
     "output_type": "display_data"
    }
   ],
   "source": [
    "plt.imshow(x_train[100])\n",
    "print(y_train[100])"
   ]
  },
  {
   "cell_type": "markdown",
   "execution_count": null,
   "metadata": {
    "id": "ttMHaGwN7TBM"
   },
   "source": [
    "The image is an image of a ship. The one-hot encoding vector holds the value of the ship class.\n"
   ]
  },
  {
   "cell_type": "markdown",
   "execution_count": null,
   "metadata": {
    "id": "XeAYl1xBp3a_"
   },
   "source": [
    "# 3. CNN\n",
    "\n",
    "In this module, we will build our CNN model."
   ]
  },
  {
   "cell_type": "markdown",
   "execution_count": null,
   "metadata": {
    "id": "9TCx_BCTy2r_"
   },
   "source": [
    "## 3.1 Define the Model\n",
    "\n",
    "Run the following cell to define ```batch_size```, ```num_classes```, and ```epochs```. Try changing the values and test how different values affect the accuracy of the CNN model."
   ]
  },
  {
   "cell_type": "code",
   "execution_count": 12,
   "metadata": {
    "id": "wPr684qj8X60"
   },
   "outputs": [],
   "source": [
    "batch_size = 32\n",
    "num_classes = 10\n",
    "epochs = 50"
   ]
  },
  {
   "cell_type": "markdown",
   "execution_count": null,
   "metadata": {
    "id": "ifh-JaLQ81im"
   },
   "source": [
    "Run the following cell to build the model. The model contains various layers stacked on top of each other. The output of one layer feeds into the input of the next layer.\n",
    "\n",
    "Conv2D layers are convolutions. Each filter (32 in the first two convolution layers and 64 in the next two convolution layers) transforms a part of the image (5x5 for the first two Conv2D layers and 3x3 for the next two Conv2D layers). The transformation is applied on the whole image.\n",
    "\n",
    "MaxPool2D is a downsampling filter. It reduces a 2x2 matrix of the image to a single pixel with the maximum value of the 2x2 matrix. The filter aims to conserve the main features of the image while reducing the size.\n",
    "\n",
    "Dropout is a regularization layer. In our model, 25% of the nodes in the layer are randomly ignores, allowing the network to learn different features. This prevents overfitting.\n",
    "\n",
    "```relu``` is the rectifier, and it is used to find nonlinearity in the data. It works by returning the input value if the input value >= 0. If the input is negative, it returns 0.\n",
    "\n",
    "Flatten converts the tensors into a 1D vector.\n",
    "\n",
    "The Dense layers are an artificial neural network (ANN). The last layer returns the probability that an image is in each class (one for each digit).\n",
    "\n",
    "As this model aims to categorize the images, we will use a ```categorical_crossentropy``` loss function. "
   ]
  },
  {
   "cell_type": "code",
   "execution_count": 13,
   "metadata": {
    "id": "RjTEk5TB88ra"
   },
   "outputs": [],
   "source": [
    "model = tf.keras.models.Sequential([\n",
    "    tf.keras.layers.Conv2D(32, 3, padding='same', input_shape=x_train.shape[1:], activation='relu'),\n",
    "    tf.keras.layers.Conv2D(32, 3, activation='relu'),\n",
    "    tf.keras.layers.MaxPooling2D(),\n",
    "    tf.keras.layers.Dropout(0.25),\n",
    "\n",
    "    tf.keras.layers.Conv2D(64, 3, padding='same', activation='relu'),\n",
    "    tf.keras.layers.Conv2D(64, 3, activation='relu'),\n",
    "    tf.keras.layers.MaxPooling2D(),\n",
    "    tf.keras.layers.Dropout(0.25),\n",
    "\n",
    "    tf.keras.layers.Flatten(),\n",
    "    tf.keras.layers.Dense(512, activation='relu'),\n",
    "    tf.keras.layers.Dropout(0.5),\n",
    "    tf.keras.layers.Dense(num_classes, activation='softmax'),\n",
    "])\n",
    "\n",
    "model.compile(optimizer=tf.keras.optimizers.RMSprop(learning_rate=0.0001, decay=1e-06),\n",
    "            loss='categorical_crossentropy', metrics=['acc'])\n"
   ]
  },
  {
   "cell_type": "markdown",
   "execution_count": null,
   "metadata": {
    "id": "AT0NrsRh0lgw"
   },
   "source": [
    "## 3.2 Fit the Training Data\n",
    "\n",
    "Testing the model on a validation dataset prevents overfitting of the data. We specified a 10% validation and 90% training split."
   ]
  },
  {
   "cell_type": "code",
   "execution_count": 14,
   "metadata": {
    "id": "V-GXoRkD-U8W",
    "outputId": "8749ff5b-2c3d-4a98-b8d4-f37c52eefbe1"
   },
   "outputs": [
    {
     "name": "stdout",
     "output_type": "stream",
     "text": [
      "Epoch 1/50\n",
      "1563/1563 [==============================] - 8s 5ms/step - loss: 1.7925 - acc: 0.3420\n",
      "Epoch 2/50\n",
      "1563/1563 [==============================] - 7s 5ms/step - loss: 1.4627 - acc: 0.4712\n",
      "Epoch 3/50\n",
      "1563/1563 [==============================] - 8s 5ms/step - loss: 1.3242 - acc: 0.5270\n",
      "Epoch 4/50\n",
      "1563/1563 [==============================] - 8s 5ms/step - loss: 1.2291 - acc: 0.5661\n",
      "Epoch 5/50\n",
      "1563/1563 [==============================] - 8s 5ms/step - loss: 1.1528 - acc: 0.5931\n",
      "Epoch 6/50\n",
      "1563/1563 [==============================] - 8s 5ms/step - loss: 1.0958 - acc: 0.6173\n",
      "Epoch 7/50\n",
      "1563/1563 [==============================] - 8s 5ms/step - loss: 1.0420 - acc: 0.6329\n",
      "Epoch 8/50\n",
      "1563/1563 [==============================] - 8s 5ms/step - loss: 1.0007 - acc: 0.6512\n",
      "Epoch 9/50\n",
      "1563/1563 [==============================] - 7s 5ms/step - loss: 0.9639 - acc: 0.6606\n",
      "Epoch 10/50\n",
      "1563/1563 [==============================] - 7s 5ms/step - loss: 0.9322 - acc: 0.6733\n",
      "Epoch 11/50\n",
      "1563/1563 [==============================] - 7s 5ms/step - loss: 0.9030 - acc: 0.6862\n",
      "Epoch 12/50\n",
      "1563/1563 [==============================] - 7s 5ms/step - loss: 0.8772 - acc: 0.6938\n",
      "Epoch 13/50\n",
      "1563/1563 [==============================] - 8s 5ms/step - loss: 0.8539 - acc: 0.7010\n",
      "Epoch 14/50\n",
      "1563/1563 [==============================] - 8s 5ms/step - loss: 0.8338 - acc: 0.7097\n",
      "Epoch 15/50\n",
      "1563/1563 [==============================] - 8s 5ms/step - loss: 0.8169 - acc: 0.7157\n",
      "Epoch 16/50\n",
      "1563/1563 [==============================] - 8s 5ms/step - loss: 0.8029 - acc: 0.7208\n",
      "Epoch 17/50\n",
      "1563/1563 [==============================] - 7s 5ms/step - loss: 0.7877 - acc: 0.7256\n",
      "Epoch 18/50\n",
      "1563/1563 [==============================] - 7s 5ms/step - loss: 0.7739 - acc: 0.7333\n",
      "Epoch 19/50\n",
      "1563/1563 [==============================] - 7s 5ms/step - loss: 0.7628 - acc: 0.7378\n",
      "Epoch 20/50\n",
      "1563/1563 [==============================] - 7s 5ms/step - loss: 0.7546 - acc: 0.7391\n",
      "Epoch 21/50\n",
      "1563/1563 [==============================] - 7s 5ms/step - loss: 0.7433 - acc: 0.7432\n",
      "Epoch 22/50\n",
      "1563/1563 [==============================] - 8s 5ms/step - loss: 0.7350 - acc: 0.7473\n",
      "Epoch 23/50\n",
      "1563/1563 [==============================] - 7s 5ms/step - loss: 0.7321 - acc: 0.7511\n",
      "Epoch 24/50\n",
      "1563/1563 [==============================] - 8s 5ms/step - loss: 0.7207 - acc: 0.7519\n",
      "Epoch 25/50\n",
      "1563/1563 [==============================] - 7s 5ms/step - loss: 0.7151 - acc: 0.7525\n",
      "Epoch 26/50\n",
      "1563/1563 [==============================] - 7s 5ms/step - loss: 0.7072 - acc: 0.7597\n",
      "Epoch 27/50\n",
      "1563/1563 [==============================] - 7s 5ms/step - loss: 0.7039 - acc: 0.7605\n",
      "Epoch 28/50\n",
      "1563/1563 [==============================] - 7s 5ms/step - loss: 0.6981 - acc: 0.7630\n",
      "Epoch 29/50\n",
      "1563/1563 [==============================] - 7s 5ms/step - loss: 0.6966 - acc: 0.7621\n",
      "Epoch 30/50\n",
      "1563/1563 [==============================] - 8s 5ms/step - loss: 0.6894 - acc: 0.7663\n",
      "Epoch 31/50\n",
      "1563/1563 [==============================] - 8s 5ms/step - loss: 0.6885 - acc: 0.7655\n",
      "Epoch 32/50\n",
      "1563/1563 [==============================] - 7s 5ms/step - loss: 0.6811 - acc: 0.7680\n",
      "Epoch 33/50\n",
      "1563/1563 [==============================] - 7s 5ms/step - loss: 0.6721 - acc: 0.7730\n",
      "Epoch 34/50\n",
      "1563/1563 [==============================] - 8s 5ms/step - loss: 0.6786 - acc: 0.7703\n",
      "Epoch 35/50\n",
      "1563/1563 [==============================] - 7s 5ms/step - loss: 0.6717 - acc: 0.7732\n",
      "Epoch 36/50\n",
      "1563/1563 [==============================] - 7s 5ms/step - loss: 0.6724 - acc: 0.7710\n",
      "Epoch 37/50\n",
      "1563/1563 [==============================] - 7s 5ms/step - loss: 0.6698 - acc: 0.7752\n",
      "Epoch 38/50\n",
      "1563/1563 [==============================] - 8s 5ms/step - loss: 0.6678 - acc: 0.7739\n",
      "Epoch 39/50\n",
      "1563/1563 [==============================] - 7s 5ms/step - loss: 0.6648 - acc: 0.7776\n",
      "Epoch 40/50\n",
      "1563/1563 [==============================] - 8s 5ms/step - loss: 0.6592 - acc: 0.7784\n",
      "Epoch 41/50\n",
      "1563/1563 [==============================] - 7s 5ms/step - loss: 0.6598 - acc: 0.7777\n",
      "Epoch 42/50\n",
      "1563/1563 [==============================] - 7s 5ms/step - loss: 0.6582 - acc: 0.7778\n",
      "Epoch 43/50\n",
      "1563/1563 [==============================] - 7s 5ms/step - loss: 0.6518 - acc: 0.7825\n",
      "Epoch 44/50\n",
      "1563/1563 [==============================] - 8s 5ms/step - loss: 0.6497 - acc: 0.7826\n",
      "Epoch 45/50\n",
      "1563/1563 [==============================] - 8s 5ms/step - loss: 0.6471 - acc: 0.7825\n",
      "Epoch 46/50\n",
      "1563/1563 [==============================] - 8s 5ms/step - loss: 0.6461 - acc: 0.7844\n",
      "Epoch 47/50\n",
      "1563/1563 [==============================] - 8s 5ms/step - loss: 0.6437 - acc: 0.7839\n",
      "Epoch 48/50\n",
      "1563/1563 [==============================] - 7s 5ms/step - loss: 0.6473 - acc: 0.7862\n",
      "Epoch 49/50\n",
      "1563/1563 [==============================] - 7s 5ms/step - loss: 0.6405 - acc: 0.7832\n",
      "Epoch 50/50\n",
      "1563/1563 [==============================] - 7s 5ms/step - loss: 0.6336 - acc: 0.7903\n"
     ]
    }
   ],
   "source": [
    "history = model.fit(x_train, y_train, batch_size=batch_size,\n",
    "                    epochs=epochs)"
   ]
  },
  {
   "cell_type": "markdown",
   "execution_count": null,
   "metadata": {
    "id": "TGzrFXC69vr5"
   },
   "source": [
    "# 4. Evaluate the Model"
   ]
  },
  {
   "cell_type": "markdown",
   "execution_count": null,
   "metadata": {
    "id": "3wL6JNg7-5u-"
   },
   "source": [
    "## 4.1 Loss and Accuracy Curves\n",
    "\n",
    "Run the following cell to evaluate the loss and accuracy of our model"
   ]
  },
  {
   "cell_type": "code",
   "execution_count": 15,
   "metadata": {
    "id": "tkhKzBcg9ymI"
   },
   "outputs": [
    {
     "data": {
      "image/png": "[encoded data removed]",
      "text/plain": [
       "<Figure size 432x288 with 2 Axes>"
      ]
     },
     "metadata": {
      "needs_background": "light"
     },
     "output_type": "display_data"
    }
   ],
   "source": [
    "fig, ax = plt.subplots(2,1)\n",
    "ax[0].plot(history.history['loss'], color='b', label=\"Training Loss\")\n",
    "legend = ax[0].legend(loc='best', shadow=True)\n",
    "\n",
    "ax[1].plot(history.history['acc'], color='b', label=\"Training Accuracy\")\n",
    "legend = ax[1].legend(loc='best', shadow=True)"
   ]
  },
  {
   "cell_type": "markdown",
   "execution_count": null,
   "metadata": {
    "id": "bRZd0Jj-EklQ"
   },
   "source": [
    "The accuracy increases over time and the loss decreases over time. However, the accuracy of our validation set seems to slightly decrease towards the end even thought our training accuracy increased. Running the model for more epochs might cause our model to be susceptible to overfitting."
   ]
  },
  {
   "cell_type": "markdown",
   "execution_count": null,
   "metadata": {
    "id": "hkNF8izQKjMa"
   },
   "source": [
    "## 4.2 Predict Results\n"
   ]
  },
  {
   "cell_type": "code",
   "execution_count": 16,
   "metadata": {
    "id": "TUed3bpT_VzA"
   },
   "outputs": [
    {
     "name": "stdout",
     "output_type": "stream",
     "text": [
      "313/313 [==============================] - 1s 3ms/step - loss: 0.6556 - acc: 0.7861\n"
     ]
    }
   ],
   "source": [
    "test_loss, test_acc = model.evaluate(x_test, y_test)"
   ]
  },
  {
   "cell_type": "markdown",
   "execution_count": null,
   "metadata": {
    "id": "gStuiR3pE63h"
   },
   "source": [
    "Our model runs pretty well, with an accuracy of ~80% on our testing data."
   ]
  },
  {
   "cell_type": "markdown",
   "execution_count": null,
   "metadata": {
    "id": "Y8awQU80KuiF"
   },
   "source": [
    "## 4.3 Confusion Matrix\n",
    "\n",
    "Run the following cell to compute our confusion matrix using TensorFlow."
   ]
  },
  {
   "cell_type": "code",
   "execution_count": 17,
   "metadata": {
    "id": "nB4WQloAK0W0"
   },
   "outputs": [],
   "source": [
    "# Predict the values from the validation dataset\n",
    "y_pred = model.predict(x_test)\n",
    "# Convert predictions classes to one hot vectors \n",
    "y_pred_classes = np.argmax(y_pred,axis = 1) \n",
    "# Convert validation observations to one hot vectors\n",
    "y_true = np.argmax(y_test,axis = 1)\n",
    "# compute the confusion matrix\n",
    "confusion_mtx = tf.math.confusion_matrix(y_true, y_pred_classes)"
   ]
  },
  {
   "cell_type": "markdown",
   "execution_count": null,
   "metadata": {
    "id": "KNJAUsqgFOem"
   },
   "source": [
    "Run the following cell to plot the confusion matrix. We see that our model classifies frogs pretty well, with 900 out of the 1000 frog images heving been classified correctly. We can also see that there is relatively high confusion between cats and dogs."
   ]
  },
  {
   "cell_type": "code",
   "execution_count": 18,
   "metadata": {
    "id": "twgFyvRpN2eu"
   },
   "outputs": [
    {
     "data": {
      "text/plain": [
       "[[Text(0, 0.5, 'airplane'),\n",
       "  Text(0, 1.5, 'automobile'),\n",
       "  Text(0, 2.5, 'bird'),\n",
       "  Text(0, 3.5, 'cat'),\n",
       "  Text(0, 4.5, 'deer'),\n",
       "  Text(0, 5.5, 'dog'),\n",
       "  Text(0, 6.5, 'frog'),\n",
       "  Text(0, 7.5, 'horse'),\n",
       "  Text(0, 8.5, 'ship'),\n",
       "  Text(0, 9.5, 'truck')],\n",
       " [Text(0.5, 0, 'airplane'),\n",
       "  Text(1.5, 0, 'automobile'),\n",
       "  Text(2.5, 0, 'bird'),\n",
       "  Text(3.5, 0, 'cat'),\n",
       "  Text(4.5, 0, 'deer'),\n",
       "  Text(5.5, 0, 'dog'),\n",
       "  Text(6.5, 0, 'frog'),\n",
       "  Text(7.5, 0, 'horse'),\n",
       "  Text(8.5, 0, 'ship'),\n",
       "  Text(9.5, 0, 'truck')]]"
      ]
     },
     "execution_count": 18,
     "metadata": {},
     "output_type": "execute_result"
    },
    {
     "data": {
      "image/png": "[encoded data removed]",
      "text/plain": [
       "<Figure size 864x648 with 2 Axes>"
      ]
     },
     "metadata": {
      "needs_background": "light"
     },
     "output_type": "display_data"
    }
   ],
   "source": [
    "plt.figure(figsize=(12, 9))\n",
    "c = sns.heatmap(confusion_mtx, annot=True, fmt='g')\n",
    "c.set(xticklabels=classes, yticklabels=classes)"
   ]
  }
 ],
 "metadata": {
  "kernelspec": {
   "display_name": "Python 3",
   "language": "python",
   "name": "python3"
  },
  "language_info": {
   "codemirror_mode": {
    "name": "ipython",
    "version": 3
   },
   "file_extension": ".py",
   "mimetype": "text/x-python",
   "name": "python",
   "nbconvert_exporter": "python",
   "pygments_lexer": "ipython3",
   "version": "3.7.6"
  }
 },
 "nbformat": 4,
 "nbformat_minor": 4
}
